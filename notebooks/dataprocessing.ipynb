{
 "cells": [
  {
   "cell_type": "code",
   "execution_count": 101,
   "id": "2cd455f36bcc75",
   "metadata": {
    "collapsed": false
   },
   "outputs": [],
   "source": [
    "import pandas as pd\n",
    "import numpy as np\n",
    "from sklearn.preprocessing import StandardScaler\n",
    "from sklearn.model_selection import train_test_split\n",
    "from sklearn.linear_model import LinearRegression\n",
    "from sklearn.preprocessing import OrdinalEncoder\n",
    "from io import StringIO\n",
    "import geopandas as gpd\n",
    "import re\n",
    "from io import StringIO"
   ]
  },
  {
   "cell_type": "code",
   "execution_count": 102,
   "id": "2c16ee03",
   "metadata": {},
   "outputs": [
    {
     "name": "stderr",
     "output_type": "stream",
     "text": [
      "/var/folders/x_/ll96cm_j5r34j0gcqbw987mw0000gn/T/ipykernel_15379/2188546676.py:3: DtypeWarning: Columns (0) have mixed types. Specify dtype option on import or set low_memory=False.\n",
      "  df_creditos = pd.read_csv(\"../data/raw/creditos.rpt\", sep=\",\")\n"
     ]
    }
   ],
   "source": [
    "#cargar datasets en df\n",
    "df_pdvs = pd.read_csv(\"../data/raw/pdvs.rpt\", sep=\",\")\n",
    "df_creditos = pd.read_csv(\"../data/raw/creditos.rpt\", sep=\",\")\n",
    "df_ventas = pd.read_csv(\"../data/raw/ventas.rpt\", sep=\",\")\n"
   ]
  },
  {
   "cell_type": "code",
   "execution_count": 103,
   "id": "7851812c",
   "metadata": {},
   "outputs": [
    {
     "data": {
      "text/html": [
       "<div>\n",
       "<style scoped>\n",
       "    .dataframe tbody tr th:only-of-type {\n",
       "        vertical-align: middle;\n",
       "    }\n",
       "\n",
       "    .dataframe tbody tr th {\n",
       "        vertical-align: top;\n",
       "    }\n",
       "\n",
       "    .dataframe thead th {\n",
       "        text-align: right;\n",
       "    }\n",
       "</style>\n",
       "<table border=\"1\" class=\"dataframe\">\n",
       "  <thead>\n",
       "    <tr style=\"text-align: right;\">\n",
       "      <th></th>\n",
       "      <th>idmerchant</th>\n",
       "      <th>fecha</th>\n",
       "      <th>creditos</th>\n",
       "      <th>cantidad</th>\n",
       "      <th>descripcion</th>\n",
       "    </tr>\n",
       "  </thead>\n",
       "  <tbody>\n",
       "    <tr>\n",
       "      <th>0</th>\n",
       "      <td>48731</td>\n",
       "      <td>2022-01-07</td>\n",
       "      <td>100.00</td>\n",
       "      <td>1.0</td>\n",
       "      <td>BANCO INTERNACIONAL CORRIENTE</td>\n",
       "    </tr>\n",
       "    <tr>\n",
       "      <th>1</th>\n",
       "      <td>90124</td>\n",
       "      <td>2023-05-23</td>\n",
       "      <td>50.00</td>\n",
       "      <td>1.0</td>\n",
       "      <td>BANCO INTERNACIONAL CORRIENTE</td>\n",
       "    </tr>\n",
       "    <tr>\n",
       "      <th>2</th>\n",
       "      <td>98035</td>\n",
       "      <td>2022-06-20</td>\n",
       "      <td>61.00</td>\n",
       "      <td>1.0</td>\n",
       "      <td>BANCO INTERNACIONAL CORRIENTE</td>\n",
       "    </tr>\n",
       "    <tr>\n",
       "      <th>3</th>\n",
       "      <td>44421</td>\n",
       "      <td>2023-04-21</td>\n",
       "      <td>10.00</td>\n",
       "      <td>1.0</td>\n",
       "      <td>BANCO INTERNACIONAL CORRIENTE</td>\n",
       "    </tr>\n",
       "    <tr>\n",
       "      <th>4</th>\n",
       "      <td>6286</td>\n",
       "      <td>2022-09-16</td>\n",
       "      <td>100.00</td>\n",
       "      <td>1.0</td>\n",
       "      <td>BANCO INTERNACIONAL CORRIENTE</td>\n",
       "    </tr>\n",
       "    <tr>\n",
       "      <th>...</th>\n",
       "      <td>...</td>\n",
       "      <td>...</td>\n",
       "      <td>...</td>\n",
       "      <td>...</td>\n",
       "      <td>...</td>\n",
       "    </tr>\n",
       "    <tr>\n",
       "      <th>989358</th>\n",
       "      <td>100779</td>\n",
       "      <td>2023-07-21</td>\n",
       "      <td>60.00</td>\n",
       "      <td>1.0</td>\n",
       "      <td>BANCO PRODUBANCO GRUPO PROMERICA AHORRO</td>\n",
       "    </tr>\n",
       "    <tr>\n",
       "      <th>989359</th>\n",
       "      <td>46448</td>\n",
       "      <td>2022-08-02</td>\n",
       "      <td>30.00</td>\n",
       "      <td>1.0</td>\n",
       "      <td>BANCO PRODUBANCO GRUPO PROMERICA AHORRO</td>\n",
       "    </tr>\n",
       "    <tr>\n",
       "      <th>989360</th>\n",
       "      <td>46142</td>\n",
       "      <td>2021-07-12</td>\n",
       "      <td>100.00</td>\n",
       "      <td>1.0</td>\n",
       "      <td>BANCO PRODUBANCO GRUPO PROMERICA AHORRO</td>\n",
       "    </tr>\n",
       "    <tr>\n",
       "      <th>989361</th>\n",
       "      <td>92688</td>\n",
       "      <td>2021-07-15</td>\n",
       "      <td>376.95</td>\n",
       "      <td>1.0</td>\n",
       "      <td>BANCO PRODUBANCO GRUPO PROMERICA AHORRO</td>\n",
       "    </tr>\n",
       "    <tr>\n",
       "      <th>989362</th>\n",
       "      <td>43346</td>\n",
       "      <td>2022-12-13</td>\n",
       "      <td>20.00</td>\n",
       "      <td>1.0</td>\n",
       "      <td>BANCO PRODUBANCO GRUPO PROMERICA AHORRO</td>\n",
       "    </tr>\n",
       "  </tbody>\n",
       "</table>\n",
       "<p>989363 rows × 5 columns</p>\n",
       "</div>"
      ],
      "text/plain": [
       "        idmerchant      fecha  creditos  cantidad  \\\n",
       "0            48731 2022-01-07    100.00       1.0   \n",
       "1            90124 2023-05-23     50.00       1.0   \n",
       "2            98035 2022-06-20     61.00       1.0   \n",
       "3            44421 2023-04-21     10.00       1.0   \n",
       "4             6286 2022-09-16    100.00       1.0   \n",
       "...            ...        ...       ...       ...   \n",
       "989358      100779 2023-07-21     60.00       1.0   \n",
       "989359       46448 2022-08-02     30.00       1.0   \n",
       "989360       46142 2021-07-12    100.00       1.0   \n",
       "989361       92688 2021-07-15    376.95       1.0   \n",
       "989362       43346 2022-12-13     20.00       1.0   \n",
       "\n",
       "                                    descripcion  \n",
       "0                 BANCO INTERNACIONAL CORRIENTE  \n",
       "1                 BANCO INTERNACIONAL CORRIENTE  \n",
       "2                 BANCO INTERNACIONAL CORRIENTE  \n",
       "3                 BANCO INTERNACIONAL CORRIENTE  \n",
       "4                 BANCO INTERNACIONAL CORRIENTE  \n",
       "...                                         ...  \n",
       "989358  BANCO PRODUBANCO GRUPO PROMERICA AHORRO  \n",
       "989359  BANCO PRODUBANCO GRUPO PROMERICA AHORRO  \n",
       "989360  BANCO PRODUBANCO GRUPO PROMERICA AHORRO  \n",
       "989361  BANCO PRODUBANCO GRUPO PROMERICA AHORRO  \n",
       "989362  BANCO PRODUBANCO GRUPO PROMERICA AHORRO  \n",
       "\n",
       "[989363 rows x 5 columns]"
      ]
     },
     "execution_count": 103,
     "metadata": {},
     "output_type": "execute_result"
    }
   ],
   "source": [
    "df_creditos = df_creditos.dropna(subset=['fecha'])\n",
    "df_creditos['fecha'] = df_creditos['fecha'].astype(str).str.split('.').str[0]\n",
    "df_creditos['fecha'] = pd.to_datetime(df_creditos['fecha'], format='%Y%m%d')\n",
    "#idmerchant tipo entero\n",
    "df_creditos['idmerchant'] = df_creditos['idmerchant'].astype(int)\n",
    "df_creditos[\"dia\"] = df_creditos[\"fecha\"].dt.dayofweek\n",
    "df_creditos"
   ]
  },
  {
   "cell_type": "code",
   "execution_count": 104,
   "id": "428ff603",
   "metadata": {},
   "outputs": [
    {
     "name": "stdout",
     "output_type": "stream",
     "text": [
      "<class 'pandas.core.frame.DataFrame'>\n",
      "Index: 989363 entries, 0 to 989362\n",
      "Data columns (total 5 columns):\n",
      " #   Column       Non-Null Count   Dtype         \n",
      "---  ------       --------------   -----         \n",
      " 0   idmerchant   989363 non-null  int64         \n",
      " 1   fecha        989363 non-null  datetime64[ns]\n",
      " 2   creditos     989363 non-null  float64       \n",
      " 3   cantidad     989363 non-null  float64       \n",
      " 4   descripcion  989363 non-null  object        \n",
      "dtypes: datetime64[ns](1), float64(2), int64(1), object(1)\n",
      "memory usage: 45.3+ MB\n"
     ]
    }
   ],
   "source": [
    "df_creditos.info()"
   ]
  },
  {
   "cell_type": "code",
   "execution_count": 106,
   "id": "ca3a5f94",
   "metadata": {},
   "outputs": [
    {
     "data": {
      "text/html": [
       "<div>\n",
       "<style scoped>\n",
       "    .dataframe tbody tr th:only-of-type {\n",
       "        vertical-align: middle;\n",
       "    }\n",
       "\n",
       "    .dataframe tbody tr th {\n",
       "        vertical-align: top;\n",
       "    }\n",
       "\n",
       "    .dataframe thead th {\n",
       "        text-align: right;\n",
       "    }\n",
       "</style>\n",
       "<table border=\"1\" class=\"dataframe\">\n",
       "  <thead>\n",
       "    <tr style=\"text-align: right;\">\n",
       "      <th></th>\n",
       "      <th>idmerchant</th>\n",
       "      <th>idregion</th>\n",
       "      <th>ciudad</th>\n",
       "      <th>canal</th>\n",
       "      <th>actividad</th>\n",
       "    </tr>\n",
       "  </thead>\n",
       "  <tbody>\n",
       "    <tr>\n",
       "      <th>0</th>\n",
       "      <td>47873</td>\n",
       "      <td>2.0</td>\n",
       "      <td>PEDERNALES</td>\n",
       "      <td>R</td>\n",
       "      <td>F</td>\n",
       "    </tr>\n",
       "    <tr>\n",
       "      <th>1</th>\n",
       "      <td>47179</td>\n",
       "      <td>3.0</td>\n",
       "      <td>QUITO</td>\n",
       "      <td>C</td>\n",
       "      <td>F</td>\n",
       "    </tr>\n",
       "    <tr>\n",
       "      <th>2</th>\n",
       "      <td>43609</td>\n",
       "      <td>3.0</td>\n",
       "      <td>RUMIÑAHUI</td>\n",
       "      <td>R</td>\n",
       "      <td>F</td>\n",
       "    </tr>\n",
       "    <tr>\n",
       "      <th>3</th>\n",
       "      <td>47128</td>\n",
       "      <td>2.0</td>\n",
       "      <td>GUAYAQUIL</td>\n",
       "      <td>R</td>\n",
       "      <td>F</td>\n",
       "    </tr>\n",
       "    <tr>\n",
       "      <th>4</th>\n",
       "      <td>47130</td>\n",
       "      <td>3.0</td>\n",
       "      <td>QUITO</td>\n",
       "      <td>R</td>\n",
       "      <td>F</td>\n",
       "    </tr>\n",
       "    <tr>\n",
       "      <th>...</th>\n",
       "      <td>...</td>\n",
       "      <td>...</td>\n",
       "      <td>...</td>\n",
       "      <td>...</td>\n",
       "      <td>...</td>\n",
       "    </tr>\n",
       "    <tr>\n",
       "      <th>79618</th>\n",
       "      <td>37339</td>\n",
       "      <td>3.0</td>\n",
       "      <td>QUITO</td>\n",
       "      <td>D</td>\n",
       "      <td>A</td>\n",
       "    </tr>\n",
       "    <tr>\n",
       "      <th>79619</th>\n",
       "      <td>34562</td>\n",
       "      <td>3.0</td>\n",
       "      <td>QUITO</td>\n",
       "      <td>D</td>\n",
       "      <td>S</td>\n",
       "    </tr>\n",
       "    <tr>\n",
       "      <th>79620</th>\n",
       "      <td>37701</td>\n",
       "      <td>3.0</td>\n",
       "      <td>QUITO</td>\n",
       "      <td>D</td>\n",
       "      <td>S</td>\n",
       "    </tr>\n",
       "    <tr>\n",
       "      <th>79621</th>\n",
       "      <td>34340</td>\n",
       "      <td>3.0</td>\n",
       "      <td>QUITO</td>\n",
       "      <td>D</td>\n",
       "      <td>S</td>\n",
       "    </tr>\n",
       "    <tr>\n",
       "      <th>79622</th>\n",
       "      <td>38633</td>\n",
       "      <td>3.0</td>\n",
       "      <td>QUITO</td>\n",
       "      <td>D</td>\n",
       "      <td>S</td>\n",
       "    </tr>\n",
       "  </tbody>\n",
       "</table>\n",
       "<p>79623 rows × 5 columns</p>\n",
       "</div>"
      ],
      "text/plain": [
       "       idmerchant  idregion      ciudad canal actividad\n",
       "0           47873       2.0  PEDERNALES     R         F\n",
       "1           47179       3.0       QUITO     C         F\n",
       "2           43609       3.0   RUMIÑAHUI     R         F\n",
       "3           47128       2.0   GUAYAQUIL     R         F\n",
       "4           47130       3.0       QUITO     R         F\n",
       "...           ...       ...         ...   ...       ...\n",
       "79618       37339       3.0       QUITO     D         A\n",
       "79619       34562       3.0       QUITO     D         S\n",
       "79620       37701       3.0       QUITO     D         S\n",
       "79621       34340       3.0       QUITO     D         S\n",
       "79622       38633       3.0       QUITO     D         S\n",
       "\n",
       "[79623 rows x 5 columns]"
      ]
     },
     "execution_count": 106,
     "metadata": {},
     "output_type": "execute_result"
    }
   ],
   "source": [
    "df_pdvs = df_pdvs.dropna(subset=['idregion'])\n",
    "df_pdvs['idmerchant'] = df_pdvs['idmerchant'].astype(int)\n",
    "df_pdvs"
   ]
  },
  {
   "cell_type": "code",
   "execution_count": 107,
   "id": "5020dbc4",
   "metadata": {},
   "outputs": [
    {
     "data": {
      "text/plain": [
       "idregion\n",
       "2.0       50554\n",
       "3.0       29066\n",
       "4357.0        2\n",
       "1567.0        1\n",
       "Name: count, dtype: int64"
      ]
     },
     "execution_count": 107,
     "metadata": {},
     "output_type": "execute_result"
    }
   ],
   "source": [
    "#contar los valores de idregion de df_pdvs\n",
    "df_pdvs['idregion'].value_counts()"
   ]
  },
  {
   "cell_type": "code",
   "execution_count": 108,
   "id": "9f30090d",
   "metadata": {},
   "outputs": [
    {
     "data": {
      "text/plain": [
       "ciudad\n",
       "GUAYAQUIL    32191\n",
       "QUITO        14313\n",
       "CUENCA        2258\n",
       "AMBATO        2137\n",
       "MACHALA       1596\n",
       "             ...  \n",
       "PALANDA          1\n",
       "HUAMBOYA         1\n",
       "TANICUCHI        1\n",
       "PACCHA           1\n",
       "PAQUISHA         1\n",
       "Name: count, Length: 286, dtype: int64"
      ]
     },
     "execution_count": 108,
     "metadata": {},
     "output_type": "execute_result"
    }
   ],
   "source": [
    "#contar las ciudades de df_pdvs\n",
    "df_pdvs['ciudad'].value_counts()"
   ]
  },
  {
   "cell_type": "code",
   "execution_count": 109,
   "id": "c4270e0b",
   "metadata": {},
   "outputs": [
    {
     "name": "stdout",
     "output_type": "stream",
     "text": [
      "<class 'pandas.core.frame.DataFrame'>\n",
      "Index: 79623 entries, 0 to 79622\n",
      "Data columns (total 5 columns):\n",
      " #   Column      Non-Null Count  Dtype  \n",
      "---  ------      --------------  -----  \n",
      " 0   idmerchant  79623 non-null  int64  \n",
      " 1   idregion    79623 non-null  float64\n",
      " 2   ciudad      79623 non-null  object \n",
      " 3   canal       77001 non-null  object \n",
      " 4   actividad   58991 non-null  object \n",
      "dtypes: float64(1), int64(1), object(3)\n",
      "memory usage: 3.6+ MB\n"
     ]
    }
   ],
   "source": [
    "df_pdvs.info()"
   ]
  },
  {
   "cell_type": "code",
   "execution_count": 111,
   "id": "7b2094a4",
   "metadata": {},
   "outputs": [],
   "source": [
    "df_ventas = df_ventas.dropna(subset=['idmerchant'])\n",
    "df_ventas['fecha'] = pd.to_datetime(df_ventas['fecha'], format='%Y%m%d')\n",
    "#cambiar la cabecera de la columna por [venta ventas\tcantidad\tidmerchant\tproducto\tfecha\tcategoria]\n",
    "df_ventas=df_ventas.reset_index()\n",
    "#unir los valores de  columna index y ventas por un . en una sola columna que se llame ventas\n",
    "df_ventas['ventas'] = df_ventas['index'].astype(str) + '.' + df_ventas['ventas'].astype(str)\n",
    "df_ventas[\"dia\"] = df_ventas[\"fecha\"].dt.dayofweek\n"
   ]
  },
  {
   "cell_type": "code",
   "execution_count": 68,
   "id": "0cc96c3c",
   "metadata": {},
   "outputs": [
    {
     "name": "stdout",
     "output_type": "stream",
     "text": [
      "<class 'pandas.core.frame.DataFrame'>\n",
      "RangeIndex: 16149282 entries, 0 to 16149281\n",
      "Data columns (total 6 columns):\n",
      " #   Column      Dtype  \n",
      "---  ------      -----  \n",
      " 0   ventas      float64\n",
      " 1   cantidad    float64\n",
      " 2   idmerchant  object \n",
      " 3   producto    object \n",
      " 4   fecha       object \n",
      " 5   categoria   object \n",
      "dtypes: float64(2), object(4)\n",
      "memory usage: 739.3+ MB\n"
     ]
    }
   ],
   "source": [
    "df_ventas.info()"
   ]
  },
  {
   "cell_type": "code",
   "execution_count": null,
   "id": "9e32ca22",
   "metadata": {},
   "outputs": [
    {
     "name": "stdout",
     "output_type": "stream",
     "text": [
      "<class 'pandas.core.frame.DataFrame'>\n",
      "Index: 16149282 entries, 14 to 6\n",
      "Data columns (total 6 columns):\n",
      " #   Column      Dtype         \n",
      "---  ------      -----         \n",
      " 0   ventas      int64         \n",
      " 1   cantidad    int64         \n",
      " 2   idmerchant  int64         \n",
      " 3   producto    object        \n",
      " 4   fecha       datetime64[ns]\n",
      " 5   categoria   object        \n",
      "dtypes: datetime64[ns](1), int64(3), object(2)\n",
      "memory usage: 862.5+ MB\n"
     ]
    }
   ],
   "source": [
    "df_ventas.info()"
   ]
  }
 ],
 "metadata": {
  "kernelspec": {
   "display_name": "Python 3",
   "language": "python",
   "name": "python3"
  },
  "language_info": {
   "codemirror_mode": {
    "name": "ipython",
    "version": 3
   },
   "file_extension": ".py",
   "mimetype": "text/x-python",
   "name": "python",
   "nbconvert_exporter": "python",
   "pygments_lexer": "ipython3",
   "version": "3.8.17"
  }
 },
 "nbformat": 4,
 "nbformat_minor": 5
}
